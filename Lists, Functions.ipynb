{
 "cells": [
  {
   "cell_type": "markdown",
   "metadata": {},
   "source": [
    "# Embedded Lists/Dicts\n",
    "\n",
    "Lists can be lists of anything. You can have a list of Strings. A list of numbers. A list of lists. A list of dictionaries. A list of objects.\n",
    "\n",
    "Dicts are the same thing. \n",
    "\n",
    "Combining them gives you interesting results. Here are some examples of embedding lists and dicts to create some useful data objects. Of course, you won't be needing all of them for data analysis and research, but it's good to know that this stuff exists. You never know when it might be useful."
   ]
  },
  {
   "cell_type": "code",
   "execution_count": 3,
   "metadata": {
    "collapsed": false
   },
   "outputs": [
    {
     "name": "stdout",
     "output_type": "stream",
     "text": [
      "[['X', '_', 'O'], ['X', 'O', '_'], ['O', 'X', 'O']]\n",
      "\n",
      "Prettier version:\n",
      "['X', '_', 'O']\n",
      "['X', 'O', '_']\n",
      "['O', 'X', 'O']\n"
     ]
    }
   ],
   "source": [
    "# List of Lists\n",
    "#\n",
    "# You can think of these as Matrices! \n",
    "\n",
    "ticTacToeBoard = [\n",
    "    [\"X\",\"_\",\"O\"],\n",
    "    ['X','O','_'],\n",
    "    ['O','X','O']\n",
    "]\n",
    "print(ticTacToeBoard)\n",
    "\n",
    "# Don't forget, formatting doesn't matter. Only indentation matters in Python.\n",
    "# I could define matrices like this too:\n",
    "ticTacToeBoard2 = [[\"X\",\"_\",\"O\"],['X','O','_'],['O','X','O']]\n",
    "print(ticTacToeBoard2)\n",
    "\n",
    "# Maybe we could use a for-loop to print this nicer\n",
    "print\n",
    "print(\"Prettier version:\")\n",
    "for row in ticTacToeBoard:\n",
    "    print(row) # print one row at a time"
   ]
  },
  {
   "cell_type": "code",
   "execution_count": 18,
   "metadata": {
    "collapsed": false
   },
   "outputs": [
    {
     "name": "stdout",
     "output_type": "stream",
     "text": [
      "2.99\n"
     ]
    },
    {
     "ename": "KeyboardInterrupt",
     "evalue": "",
     "output_type": "error",
     "traceback": [
      "\u001b[1;31m---------------------------------------------------------------------------\u001b[0m",
      "\u001b[1;31mKeyboardInterrupt\u001b[0m                         Traceback (most recent call last)",
      "\u001b[1;32m<ipython-input-18-c8c2f93a2285>\u001b[0m in \u001b[0;36m<module>\u001b[1;34m()\u001b[0m\n\u001b[0;32m     27\u001b[0m \u001b[1;33m\u001b[0m\u001b[0m\n\u001b[0;32m     28\u001b[0m \u001b[1;31m# Simple program asking the user what they want to know the price of.\u001b[0m\u001b[1;33m\u001b[0m\u001b[1;33m\u001b[0m\u001b[0m\n\u001b[1;32m---> 29\u001b[1;33m \u001b[0mlocation\u001b[0m \u001b[1;33m=\u001b[0m \u001b[0mraw_input\u001b[0m\u001b[1;33m(\u001b[0m\u001b[1;34m\"What location are you looking for? (burnaby/surrey/richmond) \"\u001b[0m\u001b[1;33m)\u001b[0m\u001b[1;33m\u001b[0m\u001b[0m\n\u001b[0m\u001b[0;32m     30\u001b[0m \u001b[1;33m\u001b[0m\u001b[0m\n\u001b[0;32m     31\u001b[0m \u001b[1;32mprint\u001b[0m\u001b[1;33m(\u001b[0m\u001b[1;34m\"Here are the items at location: \"\u001b[0m \u001b[1;33m+\u001b[0m \u001b[0mlocation\u001b[0m\u001b[1;33m)\u001b[0m\u001b[1;33m\u001b[0m\u001b[0m\n",
      "\u001b[1;32m/usr/local/lib/python2.7/dist-packages/ipykernel/kernelbase.pyc\u001b[0m in \u001b[0;36mraw_input\u001b[1;34m(self, prompt)\u001b[0m\n\u001b[0;32m    675\u001b[0m             \u001b[0mself\u001b[0m\u001b[1;33m.\u001b[0m\u001b[0m_parent_ident\u001b[0m\u001b[1;33m,\u001b[0m\u001b[1;33m\u001b[0m\u001b[0m\n\u001b[0;32m    676\u001b[0m             \u001b[0mself\u001b[0m\u001b[1;33m.\u001b[0m\u001b[0m_parent_header\u001b[0m\u001b[1;33m,\u001b[0m\u001b[1;33m\u001b[0m\u001b[0m\n\u001b[1;32m--> 677\u001b[1;33m             \u001b[0mpassword\u001b[0m\u001b[1;33m=\u001b[0m\u001b[0mFalse\u001b[0m\u001b[1;33m,\u001b[0m\u001b[1;33m\u001b[0m\u001b[0m\n\u001b[0m\u001b[0;32m    678\u001b[0m         )\n\u001b[0;32m    679\u001b[0m \u001b[1;33m\u001b[0m\u001b[0m\n",
      "\u001b[1;32m/usr/local/lib/python2.7/dist-packages/ipykernel/kernelbase.pyc\u001b[0m in \u001b[0;36m_input_request\u001b[1;34m(self, prompt, ident, parent, password)\u001b[0m\n\u001b[0;32m    705\u001b[0m             \u001b[1;32mexcept\u001b[0m \u001b[0mKeyboardInterrupt\u001b[0m\u001b[1;33m:\u001b[0m\u001b[1;33m\u001b[0m\u001b[0m\n\u001b[0;32m    706\u001b[0m                 \u001b[1;31m# re-raise KeyboardInterrupt, to truncate traceback\u001b[0m\u001b[1;33m\u001b[0m\u001b[1;33m\u001b[0m\u001b[0m\n\u001b[1;32m--> 707\u001b[1;33m                 \u001b[1;32mraise\u001b[0m \u001b[0mKeyboardInterrupt\u001b[0m\u001b[1;33m\u001b[0m\u001b[0m\n\u001b[0m\u001b[0;32m    708\u001b[0m             \u001b[1;32melse\u001b[0m\u001b[1;33m:\u001b[0m\u001b[1;33m\u001b[0m\u001b[0m\n\u001b[0;32m    709\u001b[0m                 \u001b[1;32mbreak\u001b[0m\u001b[1;33m\u001b[0m\u001b[0m\n",
      "\u001b[1;31mKeyboardInterrupt\u001b[0m: "
     ]
    }
   ],
   "source": [
    "# Dict of Dicts\n",
    "#\n",
    "# Situational. Maybe an example could be a simple database for store items at different locations\n",
    "\n",
    "# Don't forget, formatting doesn't matter. I could put things on as many new lines as I want.\n",
    "# The only thing that matters in Python is the indentation. Make sure you take care indenting, otherwise\n",
    "# you'll get errors.\n",
    "stores = {\n",
    "    \"burnaby\": {\n",
    "        \"peaches\": 5.99,\n",
    "        \"apples\": 2.99\n",
    "    },\n",
    "    \n",
    "    \"surrey\": {\n",
    "        \"socks\": 9.99,\n",
    "        \"t-shirts\": 14.99,\n",
    "        \"hat\": 10.50\n",
    "    },\n",
    "    \n",
    "    \"richmond\": {\n",
    "        \"bubble tea\": 5.99,\n",
    "        \"chicken nuggets\": 4.70\n",
    "    }\n",
    "}\n",
    "\n",
    "print(stores[\"burnaby\"][\"apples\"])\n",
    "\n",
    "# Simple program asking the user what they want to know the price of.\n",
    "location = raw_input(\"What location are you looking for? (burnaby/surrey/richmond) \")\n",
    "\n",
    "print(\"Here are the items at location: \" + location)\n",
    "for item in stores[location]:\n",
    "    print(item)\n",
    "    \n",
    "item = raw_input(\"What price do you want to look up? \")\n",
    "price = stores[location][item]\n",
    "print(\"The price is \" + str(price))\n",
    "\n",
    "# Check out what happens if you input something that doesn't exist in the dicts:\n",
    "# KEY ERROR, OH NO!"
   ]
  },
  {
   "cell_type": "markdown",
   "metadata": {},
   "source": [
    "# Functions\n",
    "\n",
    "A short aside. Functions allow you to reuse code. It makes your code cleaner."
   ]
  },
  {
   "cell_type": "code",
   "execution_count": 31,
   "metadata": {
    "collapsed": false
   },
   "outputs": [
    {
     "name": "stdout",
     "output_type": "stream",
     "text": [
      "Hello\n",
      "Hello, Derk\n",
      "Hello, Ina\n",
      "The average of [1, 2, 3] is 2\n",
      "The average of [1, 2, 3, 4, 5, 6, 7, 8, 9, 10] is 5\n"
     ]
    }
   ],
   "source": [
    "# Functions are written like this:\n",
    "def function_name():\n",
    "    print(\"Hello\")\n",
    "    return # You need to type return, don't forget!\n",
    "    \n",
    "# After defining a function, I can call it\n",
    "function_name()\n",
    "\n",
    "\n",
    "\n",
    "# You can also add parameters to your functions.\n",
    "# They are basically variables you pass in\n",
    "def hello_name(name):\n",
    "    print(\"Hello, \" + name)\n",
    "    return\n",
    "\n",
    "hello_name(\"Derk\")\n",
    "hello_name(\"Ina\")\n",
    "\n",
    "\n",
    "\n",
    "# Parameters can be literally any type. Here, lets make something useful:\n",
    "def average_list(list_of_numbers):\n",
    "    list_sum = 0\n",
    "    for num in list_of_numbers:\n",
    "        list_sum = list_sum + num\n",
    "        \n",
    "    average = list_sum/len(list_of_numbers)\n",
    "    \n",
    "    # I can return any value as well. Leaving it blank returns nothing\n",
    "    return average\n",
    "\n",
    "# Showing off my cool average function\n",
    "list1 = [1,2,3]\n",
    "avrg = average_list(list1)\n",
    "print(\"The average of \" + str(list1) + \" is \" + str(avrg))\n",
    "\n",
    "list1 = [1,2,3,4,5,6,7,8,9,10]\n",
    "avrg = average_list(list1)\n",
    "print(\"The average of \" + str(list1) + \" is \" + str(avrg))"
   ]
  },
  {
   "cell_type": "markdown",
   "metadata": {},
   "source": [
    "## Your turn!\n",
    "\n",
    "Create a small program that determines if a Tic-Tac-Toe has a winner."
   ]
  },
  {
   "cell_type": "code",
   "execution_count": 37,
   "metadata": {
    "collapsed": false
   },
   "outputs": [
    {
     "name": "stdout",
     "output_type": "stream",
     "text": [
      "Checking board:\n",
      "['_', '_', '_']\n",
      "['_', '_', '_']\n",
      "['_', '_', '_']\n",
      "Winner!\n"
     ]
    }
   ],
   "source": [
    "# Empty board\n",
    "ttt_board = [\n",
    "    ['_','_','_'],\n",
    "    ['_','_','_'],\n",
    "    ['_','_','_']\n",
    "]\n",
    "\n",
    "# Victory board\n",
    "ttt_board1 = [\n",
    "    ['_','X','_'],\n",
    "    ['_','X','O'],\n",
    "    ['O','X','_']\n",
    "]\n",
    "\n",
    "# It's up to you to come up with other test data.\n",
    "\n",
    "# Here's a hint: Start by making the following functions\n",
    "def check_row(board, row_number):\n",
    "    return False\n",
    "\n",
    "def check_column(board, col_number):\n",
    "    return False\n",
    "\n",
    "def check_diagonal(board, diagonal): \n",
    "    # Up to you how to define 'diagonal'. I suggest using a string \"left\" or \"right\"\n",
    "    return False\n",
    "\n",
    "\n",
    "\n",
    "\n",
    "# After implementing those functions, put them all together here\n",
    "def check_board(board):\n",
    "    return True\n",
    "\n",
    "\n",
    "\n",
    "\n",
    "# Then test your big mean function\n",
    "the_board = ttt_board\n",
    "print(\"Checking board:\")\n",
    "\n",
    "for row in the_board: print(row) # I can for-loop in a single line, just FYI\n",
    "\n",
    "if (check_board(the_board)):\n",
    "    print(\"Winner!\")\n",
    "else:\n",
    "    print(\"Loser =(\")\n"
   ]
  },
  {
   "cell_type": "code",
   "execution_count": null,
   "metadata": {
    "collapsed": true
   },
   "outputs": [],
   "source": []
  }
 ],
 "metadata": {
  "kernelspec": {
   "display_name": "Python 2",
   "language": "python",
   "name": "python2"
  },
  "language_info": {
   "codemirror_mode": {
    "name": "ipython",
    "version": 2
   },
   "file_extension": ".py",
   "mimetype": "text/x-python",
   "name": "python",
   "nbconvert_exporter": "python",
   "pygments_lexer": "ipython2",
   "version": "2.7.6"
  }
 },
 "nbformat": 4,
 "nbformat_minor": 0
}
