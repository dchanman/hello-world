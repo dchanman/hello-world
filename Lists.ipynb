{
 "cells": [
  {
   "cell_type": "markdown",
   "metadata": {},
   "source": [
    "# Lists\n",
    "\n",
    "**Lists** are your regular arrays. You access them similar to how you would access them in C and MATLAB!"
   ]
  },
  {
   "cell_type": "code",
   "execution_count": 8,
   "metadata": {
    "collapsed": false
   },
   "outputs": [
    {
     "name": "stdout",
     "output_type": "stream",
     "text": [
      "The first element in mylist is apple\n",
      "The second element in mylist is strawberry\n",
      "The third element in mylist is pear\n"
     ]
    }
   ],
   "source": [
    "# Note the [square brackets]\n",
    "mylist = ['apple', 'strawberry', 'pear']\n",
    "\n",
    "# Notice how indexing starts with 0\n",
    "print(\"The first element in mylist is \" + mylist[0])\n",
    "print(\"The second element in mylist is \" + mylist[1])\n",
    "print(\"The third element in mylist is \" + mylist[2])"
   ]
  },
  {
   "cell_type": "markdown",
   "metadata": {},
   "source": [
    "The cool thing is that Python gives you some shortcuts as well for indexing:"
   ]
  },
  {
   "cell_type": "code",
   "execution_count": 4,
   "metadata": {
    "collapsed": false
   },
   "outputs": [
    {
     "name": "stdout",
     "output_type": "stream",
     "text": [
      "10\n",
      "9\n",
      "8\n"
     ]
    }
   ],
   "source": [
    "mylist = [1,2,3,4,5,6,7,8,9,10]\n",
    "\n",
    "# You can use NEGATIVE numbers to count from the end\n",
    "print(mylist[-1])\n",
    "print(mylist[-2])\n",
    "print(mylist[-3])"
   ]
  },
  {
   "cell_type": "markdown",
   "metadata": {},
   "source": [
    "## List Processing\n",
    "\n",
    "There are a ton of things you can do to Lists."
   ]
  },
  {
   "cell_type": "code",
   "execution_count": 21,
   "metadata": {
    "collapsed": false
   },
   "outputs": [
    {
     "name": "stdout",
     "output_type": "stream",
     "text": [
      "Append\n",
      "['mangoes', 'papayas', 'pears', 'oranges']\n",
      "\n",
      "Remove\n",
      "['mangoes', 'pears', 'oranges']\n",
      "\n",
      "Pop last\n",
      "oranges\n",
      "['mangoes', 'pears']\n",
      "\n",
      "Pop first\n",
      "mangoes\n",
      "['pears']\n",
      "\n",
      "Add lists together\n",
      "['pears', 'tomatoes', 'radishes', 'more mangoes']\n",
      "\n"
     ]
    }
   ],
   "source": [
    "shopping_list = ['mangoes', 'papayas', 'pears']\n",
    "\n",
    "# Add things to their ends\n",
    "print(\"Append\")\n",
    "shopping_list.append('oranges')\n",
    "print(shopping_list)\n",
    "print\n",
    "\n",
    "# Remove things\n",
    "print(\"Remove\")\n",
    "shopping_list.remove('papayas')\n",
    "print(shopping_list)\n",
    "print\n",
    "\n",
    "# Remove things by index\n",
    "print(\"Pop last\")\n",
    "last_item = shopping_list.pop() # by default this is last item\n",
    "print(last_item)\n",
    "print(shopping_list)\n",
    "print\n",
    "\n",
    "print(\"Pop first\")\n",
    "first_item = shopping_list.pop(0) # 0 is the first item\n",
    "print(first_item)\n",
    "print(shopping_list)\n",
    "print\n",
    "\n",
    "# Add lists together\n",
    "print(\"Add lists together\")\n",
    "tomorrows_list = ['tomatoes', 'radishes', 'more mangoes']\n",
    "big_list = shopping_list + tomorrows_list\n",
    "print(big_list)\n",
    "print"
   ]
  },
  {
   "cell_type": "markdown",
   "metadata": {},
   "source": [
    "## Strings\n",
    "\n",
    "A character is a single letter, number, or symbol. (eg. 'a', '1', '&', '#')\n",
    "\n",
    "A string is simply a list of characters!\n",
    "\n",
    "Everything you can do to a list, you can do to a String."
   ]
  },
  {
   "cell_type": "code",
   "execution_count": 3,
   "metadata": {
    "collapsed": false
   },
   "outputs": [
    {
     "name": "stdout",
     "output_type": "stream",
     "text": [
      "I am a string\n",
      "The first letter is I\n",
      "The last letter is g\n"
     ]
    }
   ],
   "source": [
    "string = \"I am a string\"\n",
    "print(string)\n",
    "\n",
    "# Print the first letter\n",
    "print(\"The first letter is \" + string[0])\n",
    "\n",
    "# Print the last letter\n",
    "print(\"The last letter is \" + string[-1])"
   ]
  },
  {
   "cell_type": "markdown",
   "metadata": {},
   "source": [
    "## List Comprehensions\n",
    "\n",
    "You know how in math, we can write equations like:\n",
    "\n",
    "$X = {x \\ | \\ x \\in [5,10]}$\n",
    "\n",
    "This above equation basically says \"give me a set X of values between 5 and 10\"\n",
    "\n",
    "Well, you can do this in python as well:"
   ]
  },
  {
   "cell_type": "code",
   "execution_count": 16,
   "metadata": {
    "collapsed": false
   },
   "outputs": [
    {
     "name": "stdout",
     "output_type": "stream",
     "text": [
      "[5, 6, 7, 8, 9]\n"
     ]
    }
   ],
   "source": [
    "# Notice how similar the syntax looks to the math?\n",
    "X = [x for x in range(5,11)]\n",
    "print(X)"
   ]
  },
  {
   "cell_type": "markdown",
   "metadata": {},
   "source": [
    "The best part about list comprehensions is that we can generate some pretty complicated lists:"
   ]
  },
  {
   "cell_type": "code",
   "execution_count": 17,
   "metadata": {
    "collapsed": false
   },
   "outputs": [
    {
     "name": "stdout",
     "output_type": "stream",
     "text": [
      "[0, 1, 4, 9, 16, 25, 36, 49, 64, 81]\n"
     ]
    }
   ],
   "source": [
    "# Weeeee a list of squrrrs\n",
    "Squares = [x*x for x in range(10)]\n",
    "print(Squares)"
   ]
  },
  {
   "cell_type": "code",
   "execution_count": 22,
   "metadata": {
    "collapsed": false
   },
   "outputs": [
    {
     "name": "stdout",
     "output_type": "stream",
     "text": [
      "[0, 7, 14, 21, 28, 35, 42, 49, 56, 63, 70, 77, 84, 91, 98]\n"
     ]
    }
   ],
   "source": [
    "# What if we wanted only a list of numbers divisible by 7?\n",
    "\n",
    "# We can use if-statements in here too\n",
    "div_seven = [i for i in range(100) if i%7 == 0] # i%7 is the remainder of i divided by 7 (modulo operation)\n",
    "print(div_seven)"
   ]
  },
  {
   "cell_type": "markdown",
   "metadata": {},
   "source": [
    "### Tuples in Lists\n",
    "\n",
    "Lists can store more than just numbers, they can store any kinds of data.\n",
    "\n",
    "Tuples are a mathematical collection of values! We see them a lot when we graph things. The points (x,y) are tuples!\n",
    "\n",
    "Hey, you make graphs all the time for chemistry! What if you wanted to generate a ton of points? Python makes it so fun!"
   ]
  },
  {
   "cell_type": "code",
   "execution_count": 23,
   "metadata": {
    "collapsed": false
   },
   "outputs": [
    {
     "name": "stdout",
     "output_type": "stream",
     "text": [
      "[(0, 0), (0, 1), (0, 2), (1, 0), (1, 1), (1, 2), (2, 0), (2, 1), (2, 2)]\n"
     ]
    }
   ],
   "source": [
    "# What if I wanted to make a list of all possible tuples?\n",
    "tuples = [(x,y) for x in range(3) for y in range(3)]\n",
    "print(tuples)"
   ]
  },
  {
   "cell_type": "code",
   "execution_count": 26,
   "metadata": {
    "collapsed": false
   },
   "outputs": [
    {
     "name": "stdout",
     "output_type": "stream",
     "text": [
      "[(0, 4), (1, 5), (2, 8), (3, 13), (4, 20)]\n"
     ]
    }
   ],
   "source": [
    "# What if I wanted a list of points that make up y = x^2 + 4\n",
    "\n",
    "# Each point (x,y) can be written as (x,x^2 + 4)\n",
    "line = [(x,x**2+4) for x in range(5)]\n",
    "print(line)"
   ]
  },
  {
   "cell_type": "markdown",
   "metadata": {},
   "source": [
    "### Exercise: Pythagorean Triples\n",
    "\n",
    "A pythagorean triple is a collection (x,y,z) where $x^2 + y^2 = z^2$\n",
    "\n",
    "Lets play with generating them in Python. It's super easy with list comprehensions!"
   ]
  },
  {
   "cell_type": "code",
   "execution_count": 30,
   "metadata": {
    "collapsed": false
   },
   "outputs": [
    {
     "name": "stdout",
     "output_type": "stream",
     "text": [
      "[(1, 1, 1.4142135623730951), (1, 2, 2.23606797749979), (1, 3, 3.1622776601683795), (1, 4, 4.123105625617661), (2, 1, 2.23606797749979), (2, 2, 2.8284271247461903), (2, 3, 3.605551275463989), (2, 4, 4.47213595499958), (3, 1, 3.1622776601683795), (3, 2, 3.605551275463989), (3, 3, 4.242640687119285), (3, 4, 5.0), (4, 1, 4.123105625617661), (4, 2, 4.47213595499958), (4, 3, 5.0), (4, 4, 5.656854249492381)]\n"
     ]
    }
   ],
   "source": [
    "import math\n",
    "\n",
    "# Lets generate some triples!\n",
    "pythagorean_triples = [(x,y,math.sqrt(x**2 + y**2)) for x in range(1,5) for y in range(1,5)]\n",
    "print(pythagorean_triples)"
   ]
  },
  {
   "cell_type": "markdown",
   "metadata": {},
   "source": [
    "Okay, those look kind of ugly. What if we only wanted Pythagorean triples that are integer valued?\n",
    "\n",
    "Above, we expressed the tuple (x,y,z) as `(x,y,sqrt(x**2, y**2))`\n",
    "\n",
    "The downside to that is we end up with all these decimal numbers.\n",
    "\n",
    "---\n",
    "\n",
    "Another way we could approach this is to express the tuple as (x,y,z) where x,y,z are all integers. We can use an if-statement like before to generate the results we want"
   ]
  },
  {
   "cell_type": "code",
   "execution_count": 32,
   "metadata": {
    "collapsed": false
   },
   "outputs": [
    {
     "name": "stdout",
     "output_type": "stream",
     "text": [
      "[(3, 4, 5), (4, 3, 5), (5, 12, 13), (6, 8, 10), (8, 6, 10), (8, 15, 17), (9, 12, 15), (12, 5, 13), (12, 9, 15), (15, 8, 17)]\n"
     ]
    }
   ],
   "source": [
    "pythagorean_triples = [(x,y,z) for x in range (1,20) for y in range(1,20) for z in range(1,20) if x**2 + y**2 == z**2]\n",
    "print(pythagorean_triples)"
   ]
  },
  {
   "cell_type": "markdown",
   "metadata": {},
   "source": [
    "# Your turn!\n",
    "\n",
    "Here are some exercises you can try:"
   ]
  },
  {
   "cell_type": "markdown",
   "metadata": {},
   "source": [
    "# Ex1: Multiples\n",
    "\n",
    "I'll give you a number. Make me all the multiples of that number up until 50\n",
    "\n",
    "For example:\n",
    "\n",
    "```\n",
    "Give me multiples of this number: 3\n",
    "Here are the multiples of the number 3\n",
    "[3,6,9,12,15,18,...]\n",
    "```"
   ]
  },
  {
   "cell_type": "code",
   "execution_count": 42,
   "metadata": {
    "collapsed": false
   },
   "outputs": [
    {
     "name": "stdout",
     "output_type": "stream",
     "text": [
      "Give me nultiples of this number: 10\n",
      "Here are the multiples of the number 10\n",
      "[]\n"
     ]
    }
   ],
   "source": [
    "# Some snippet code to get you started\n",
    "\n",
    "value = raw_input(\"Give me nultiples of this number: \")\n",
    "print(\"Here are the multiples of the number \" + value)\n",
    "\n",
    "multiples = [] # Your code goes here\n",
    "print(multiples)"
   ]
  },
  {
   "cell_type": "markdown",
   "metadata": {},
   "source": [
    "## Ex2: Loose Change\n",
    "\n",
    "Say I wanted to make a certain amount of money out of only coins. Use list comprehensions to produce all the different ways I could make that amount using pennies, nickels, dimes, quarters, and loonies.\n",
    "\n",
    "Represent the number of pennies, nickels, dimes, quarters, and loonies with a tuple. `(a,b,c,d,e)`\n",
    "\n",
    "For example:\n",
    "\n",
    "```\n",
    "Enter value in cents: 7\n",
    "You can make 7 cents as so:\n",
    "[(2, 1, 0, 0, 0), (7, 0, 0, 0, 0)]\n",
    "```"
   ]
  },
  {
   "cell_type": "code",
   "execution_count": 40,
   "metadata": {
    "collapsed": false
   },
   "outputs": [
    {
     "name": "stdout",
     "output_type": "stream",
     "text": [
      "Enter value in cents: 7\n",
      "You can make 7 cents as so: \n",
      "[]\n"
     ]
    }
   ],
   "source": [
    "# Some snippet code to get you started\n",
    "\n",
    "value = raw_input(\"Enter value in cents: \")\n",
    "print(\"You can make \" + value + \" cents as so: \")\n",
    "\n",
    "loose_change = [] # Your code goes here\n",
    "print(loose_change)"
   ]
  },
  {
   "cell_type": "code",
   "execution_count": 43,
   "metadata": {
    "collapsed": false
   },
   "outputs": [
    {
     "name": "stdout",
     "output_type": "stream",
     "text": [
      "[(2, 1, 0), (7, 0, 0)]\n"
     ]
    }
   ],
   "source": [
    "# Solution to Ex3 belooooow, don't cheat!\n",
    "\n",
    "\n",
    "\n",
    "\n",
    "\n",
    "\n",
    "\n",
    "\n",
    "\n",
    "\n",
    "\n",
    "\n",
    "\n",
    "\n",
    "\n",
    "\n",
    "amount = 7\n",
    "loose_change = [(pennies,nickels,dimes) for pennies in range(100) for nickels in range(100) for dimes in range(100)\n",
    "               if pennies + 5*nickels + 10*dimes == amount]\n",
    "print(loose_change)"
   ]
  },
  {
   "cell_type": "markdown",
   "metadata": {},
   "source": [
    "# Onwards\n",
    "\n",
    "This is just an introduction to list comprehensions. Before we apply some bio to it, there's still a little more to learn! Hang tight!"
   ]
  }
 ],
 "metadata": {
  "kernelspec": {
   "display_name": "Python 2",
   "language": "python",
   "name": "python2"
  },
  "language_info": {
   "codemirror_mode": {
    "name": "ipython",
    "version": 2
   },
   "file_extension": ".py",
   "mimetype": "text/x-python",
   "name": "python",
   "nbconvert_exporter": "python",
   "pygments_lexer": "ipython2",
   "version": "2.7.6"
  }
 },
 "nbformat": 4,
 "nbformat_minor": 0
}
