{
 "cells": [
  {
   "cell_type": "markdown",
   "metadata": {},
   "source": [
    "# Searching Lists\n",
    "\n",
    "We're going to use List's find() function to search for an element inside a list.\n",
    "\n",
    "Don't forget that Strings are lists too! "
   ]
  },
  {
   "cell_type": "code",
   "execution_count": null,
   "metadata": {
    "collapsed": false
   },
   "outputs": [],
   "source": [
    "my_string = \"derkderkderkderk\"\n",
    "\n",
    "# string.find() is pretty cool. \n",
    "# You can use it to find smaller strings inside a string\n",
    "\n",
    "# By default, find() searches from the beginning of the string\n",
    "index = my_string.find(\"d\")\n",
    "print(\"The index of the first d is at index \" + str(index))\n",
    "\n",
    "\n",
    "# You can also tell find() where to start looking.\n",
    "index = my_string.find(\"d\", 2) # Start at index 2\n",
    "print(\"The index of the second d is at index \" + str(index))\n",
    "\n",
    "\n",
    "# Notice that we can reuse the value of index to keep finding the next occurence\n",
    "index = my_string.find(\"d\", index+1)\n",
    "print(\"The index of the next d is at index \" + str(index))\n",
    "\n",
    "\n",
    "# If it doesn't exist, find() will tell you -1\n",
    "index = my_string.find(\"z\")\n",
    "print(\"The index of z is \" + str(index))"
   ]
  },
  {
   "cell_type": "markdown",
   "metadata": {},
   "source": [
    "### Aside: While Loops\n",
    "\n",
    "You'll need a while-loop to help you in the next challenge.\n",
    "\n",
    "While-loops are the same in Python as they are in most common languages. Keep in mind that Python uses **indents** to section off the loops."
   ]
  },
  {
   "cell_type": "code",
   "execution_count": null,
   "metadata": {
    "collapsed": false
   },
   "outputs": [],
   "source": [
    "# Example: Keep removing elements in a list until there are only 3 items\n",
    "\n",
    "\n",
    "nicknames = ['bb', 'bae', 'honey', 'sweetie', 'cuddlebum', 'qt', 'qt3.1415']\n",
    "\n",
    "# len() is a function that tells us the length of a list\n",
    "while (len(nicknames) > 3):\n",
    "    # using pop() will remove the last element in the list\n",
    "    nicknames.pop()\n",
    "    \n",
    "print(nicknames)"
   ]
  },
  {
   "cell_type": "markdown",
   "metadata": {},
   "source": [
    "# Exercise: Sequence Searching\n",
    "Your turn!"
   ]
  },
  {
   "cell_type": "code",
   "execution_count": null,
   "metadata": {
    "collapsed": true
   },
   "outputs": [],
   "source": [
    "# Determine how many times the subsequence ATT appears\n",
    "dna_sequence = \"ATTATCGATCGATTATAGCTAGTCGATAATA\"\n",
    "\n",
    "# Hint: use index() and a while loop\n",
    "\n",
    "\n"
   ]
  },
  {
   "cell_type": "markdown",
   "metadata": {},
   "source": [
    "# Dictionaries\n",
    "\n",
    "Dictionaries is a different kind of data type. Lists are great and all, but you're stuck with having to remember indexes and all that. It'd be nice if instead of numbered indexes, we could use names instead. Check this out:"
   ]
  },
  {
   "cell_type": "code",
   "execution_count": null,
   "metadata": {
    "collapsed": false
   },
   "outputs": [],
   "source": [
    "# Dictionaries are defined with {curly brackets} \n",
    "prices = {'tomatoes': 3.99, 'potatoes': 2.99, 'burritoes': 4.99}\n",
    "\n",
    "print(\"The price of a tomato is: \")\n",
    "print(prices['tomatoes'])\n",
    "\n",
    "print\n",
    "\n",
    "print(\"The price of a burrito is: \")\n",
    "print(prices['burritoes'])\n",
    "\n",
    "print\n",
    "\n",
    "print(\"The price of 2 potatoes and 4 burritoes is:\")\n",
    "print(2*prices['potatoes'] + 4*prices['burritoes'])"
   ]
  },
  {
   "cell_type": "markdown",
   "metadata": {},
   "source": [
    "Dictionaries are also called lookup-tables. You could think of them like a table where you look up the string and retrieve a value.\n",
    "\n",
    "They're great for being, well... dictionaries! Look! I can translate English to Minionese"
   ]
  },
  {
   "cell_type": "code",
   "execution_count": 21,
   "metadata": {
    "collapsed": false
   },
   "outputs": [
    {
     "name": "stdout",
     "output_type": "stream",
     "text": [
      "words_list contains: ['hello', 'i', 'like', 'papaya']\n",
      "\n",
      "minion_word_list contains: ['bellow', 'ka', 'ko', 'papaya']\n",
      "\n",
      "bellow ka ko papaya\n"
     ]
    }
   ],
   "source": [
    "# To make it more readable, I could define my dictionaries across multiple lines\n",
    "eng_to_minion = {\n",
    "    \"hello\": \"bellow\", #doublequotes and singlequotes are interchangable btw\n",
    "    'i': \"ka\",\n",
    "    \"like\": \"ko\",\n",
    "    \"papaya\": \"papaya\"    \n",
    "}\n",
    "\n",
    "english_sentence = \"hello i like papaya\"\n",
    "\n",
    "# split() turns my string into a list of words\n",
    "words_list = english_sentence.split(\" \")\n",
    "print(\"words_list contains: \" + str(words_list))\n",
    "print\n",
    "\n",
    "# Now we can use the dictionary to translate to a new list\n",
    "minion_word_list = []\n",
    "for word in words_list:\n",
    "    minion_word_list.append(eng_to_minion[word])\n",
    "\n",
    "print(\"minion_word_list contains: \" + str(minion_word_list))\n",
    "print\n",
    "\n",
    "# string.join() is the opposite of split().\n",
    "# It's kind of weird how join() looks. This is how to join a list of words\n",
    "# using a space between them.\n",
    "minion_sentence = \" \".join(minion_word_list)\n",
    "print(minion_sentence)"
   ]
  },
  {
   "cell_type": "markdown",
   "metadata": {},
   "source": [
    "## Using List Comprehensions for Translating with a Dictionary\n",
    "This is actually a neater way of doing translations!"
   ]
  },
  {
   "cell_type": "code",
   "execution_count": 20,
   "metadata": {
    "collapsed": false
   },
   "outputs": [
    {
     "name": "stdout",
     "output_type": "stream",
     "text": [
      "bellow ka ko papaya\n"
     ]
    }
   ],
   "source": [
    "# Instead of this (from above):\n",
    "minion_word_list = []\n",
    "for word in words_list:\n",
    "    minion_word_list.append(eng_to_minion[word])\n",
    "\n",
    "\n",
    "# We can use a list comprehension instead:\n",
    "minion_word_list = [eng_to_minion[word] for word in words_list]\n",
    "\n",
    "\n",
    "minion_sentence = \" \".join(minion_word_list)\n",
    "print(minion_sentence)"
   ]
  },
  {
   "cell_type": "markdown",
   "metadata": {},
   "source": [
    "# Exercise: DNA Base Pairing\n",
    "Your turn! Good luck! Have fun!"
   ]
  },
  {
   "cell_type": "code",
   "execution_count": null,
   "metadata": {
    "collapsed": false
   },
   "outputs": [],
   "source": [
    "# The user will input a DNA sequence, generate the complementary sequence\n",
    "sequence = raw_input(\"Enter a DNA sequence (A,T,C,G): \")\n",
    "print(\"The original sequence is: \" + sequence)\n",
    "\n",
    "# Generate the complementary sequence here and output the result"
   ]
  },
  {
   "cell_type": "markdown",
   "metadata": {},
   "source": [
    "## Extending a Dictionary\n",
    "\n",
    "You can add more items to the dictionary on the fly, or modify its values. All of this is super simple!"
   ]
  },
  {
   "cell_type": "code",
   "execution_count": 5,
   "metadata": {
    "collapsed": false
   },
   "outputs": [
    {
     "name": "stdout",
     "output_type": "stream",
     "text": [
      "{'mwahs': 2, 'hugs': 100}\n"
     ]
    }
   ],
   "source": [
    "luv_tally = {'hugs': 1}\n",
    "\n",
    "# You can make up new fields and add them whenever you want\n",
    "luv_tally['mwahs'] = 2\n",
    "\n",
    "# Or change the values of fields\n",
    "luv_tally['hugs'] = luv_tally['hugs'] + 99\n",
    "\n",
    "print(luv_tally)"
   ]
  },
  {
   "cell_type": "markdown",
   "metadata": {},
   "source": [
    "## Aside: Substrings/Sublists\n",
    "\n",
    "You can easily extract a small chunk of a list or a string. The syntax is reminiscent of MATLAB.\n",
    "\n",
    "Remember, a string is a list too!"
   ]
  },
  {
   "cell_type": "code",
   "execution_count": 15,
   "metadata": {
    "collapsed": false
   },
   "outputs": [
    {
     "name": "stdout",
     "output_type": "stream",
     "text": [
      "some_letters: de\n",
      "letters_from_beginning: abcde\n",
      "letters_to_end: fghijklmnopqrstuvwxyz\n",
      "var_substring: rstuvw\n"
     ]
    }
   ],
   "source": [
    "alphabet_soup = \"abcdefghijklmnopqrstuvwxyz\"\n",
    "\n",
    "some_letters = alphabet_soup[3:5]\n",
    "print(\"some_letters: \" + some_letters)\n",
    "\n",
    "letters_from_beginning = alphabet_soup[:5]\n",
    "print(\"letters_from_beginning: \" + letters_from_beginning)\n",
    "\n",
    "letters_to_end = alphabet_soup[5:]\n",
    "print(\"letters_to_end: \" + letters_to_end)\n",
    "\n",
    "# using variables as indices works too\n",
    "var_start = 17\n",
    "var_end = 23\n",
    "var_substring = alphabet_soup[var_start:var_end]\n",
    "print(\"var_substring: \" + var_substring)"
   ]
  },
  {
   "cell_type": "markdown",
   "metadata": {},
   "source": [
    "# Exercise: Sequence Counting\n",
    "\n",
    "This is a slightly more intensive program you'll be writing.\n",
    "\n",
    "Given a DNA sequence, tally up all the 4-length subsequences inside.\n",
    "\n",
    "For example:\n",
    "```\n",
    "ATTATTA\n",
    "\n",
    "{\n",
    "\"ATTA\": 2,\n",
    "\"TTAT\": 1,\n",
    "\"TATT\": 1\n",
    "}\n",
    "```"
   ]
  },
  {
   "cell_type": "code",
   "execution_count": 16,
   "metadata": {
    "collapsed": false
   },
   "outputs": [
    {
     "name": "stdout",
     "output_type": "stream",
     "text": [
      "Enter a sequence: ATATATATATT\n",
      "The original sequence is: ATATATATATT\n"
     ]
    }
   ],
   "source": [
    "sequence = raw_input(\"Enter a sequence: \")\n",
    "print(\"The original sequence is: \" + sequence)\n",
    "\n",
    "# Your code goes here:"
   ]
  }
 ],
 "metadata": {
  "kernelspec": {
   "display_name": "Python 2",
   "language": "python",
   "name": "python2"
  },
  "language_info": {
   "codemirror_mode": {
    "name": "ipython",
    "version": 2
   },
   "file_extension": ".py",
   "mimetype": "text/x-python",
   "name": "python",
   "nbconvert_exporter": "python",
   "pygments_lexer": "ipython2",
   "version": "2.7.6"
  }
 },
 "nbformat": 4,
 "nbformat_minor": 0
}
